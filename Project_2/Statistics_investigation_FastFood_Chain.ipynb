{
 "cells": [
  {
   "cell_type": "markdown",
   "metadata": {},
   "source": [
    "Created by: Aslamic Adika"
   ]
  },
  {
   "cell_type": "code",
   "execution_count": 1,
   "metadata": {},
   "outputs": [],
   "source": [
    "# import some needed libraries \n",
    "\n",
    "import numpy as np\n",
    "import pandas as pd\n",
    "import datetime\n",
    "from datetime import datetime\n",
    "from pandas.core.tools.datetimes import to_datetime\n",
    "import matplotlib.pyplot as plt\n",
    "import seaborn as sns\n",
    "import datetime as dt\n",
    "\n",
    "# Hiding the warnings\n",
    "import warnings\n",
    "warnings.filterwarnings('ignore') \n",
    "pd.set_option('display.float_format', lambda x: '%.3f' % x) \n",
    "%matplotlib inline"
   ]
  },
  {
   "cell_type": "markdown",
   "metadata": {},
   "source": [
    "# Dataset"
   ]
  },
  {
   "cell_type": "markdown",
   "metadata": {},
   "source": [
    "A fast-food chain plans to add a new item to its menu. However, they are still undecided between three possible marketing campaigns for promoting the new product. In order to determine which promotion has the greatest effect on sales, the new item is introduced at locations in several randomly selected markets. A different promotion is used at each location, and the weekly sales of the new item are recorded for the first four weeks."
   ]
  },
  {
   "cell_type": "code",
   "execution_count": 2,
   "metadata": {},
   "outputs": [],
   "source": [
    "sheet_url  = 'https://docs.google.com/spreadsheets/d/1oNePPFiwo6LZe37tTnBWVOmWD707bn5Miy3BXSLXfPk/edit#gid=0'\n",
    "sheet_url_trf = sheet_url.replace('/edit#gid=', '/export?format=csv&gid=')\n",
    "df = pd.read_csv(sheet_url_trf)"
   ]
  },
  {
   "cell_type": "code",
   "execution_count": 3,
   "metadata": {},
   "outputs": [
    {
     "data": {
      "text/html": [
       "<div>\n",
       "<style scoped>\n",
       "    .dataframe tbody tr th:only-of-type {\n",
       "        vertical-align: middle;\n",
       "    }\n",
       "\n",
       "    .dataframe tbody tr th {\n",
       "        vertical-align: top;\n",
       "    }\n",
       "\n",
       "    .dataframe thead th {\n",
       "        text-align: right;\n",
       "    }\n",
       "</style>\n",
       "<table border=\"1\" class=\"dataframe\">\n",
       "  <thead>\n",
       "    <tr style=\"text-align: right;\">\n",
       "      <th></th>\n",
       "      <th>MarketID</th>\n",
       "      <th>MarketSize</th>\n",
       "      <th>LocationID</th>\n",
       "      <th>AgeOfStore</th>\n",
       "      <th>Promotion</th>\n",
       "      <th>week</th>\n",
       "      <th>SalesInThousands</th>\n",
       "    </tr>\n",
       "  </thead>\n",
       "  <tbody>\n",
       "    <tr>\n",
       "      <th>0</th>\n",
       "      <td>1</td>\n",
       "      <td>Medium</td>\n",
       "      <td>1</td>\n",
       "      <td>4</td>\n",
       "      <td>3</td>\n",
       "      <td>1</td>\n",
       "      <td>33.730</td>\n",
       "    </tr>\n",
       "    <tr>\n",
       "      <th>1</th>\n",
       "      <td>1</td>\n",
       "      <td>Medium</td>\n",
       "      <td>1</td>\n",
       "      <td>4</td>\n",
       "      <td>3</td>\n",
       "      <td>2</td>\n",
       "      <td>35.670</td>\n",
       "    </tr>\n",
       "  </tbody>\n",
       "</table>\n",
       "</div>"
      ],
      "text/plain": [
       "   MarketID MarketSize  LocationID  AgeOfStore  Promotion  week  \\\n",
       "0         1     Medium           1           4          3     1   \n",
       "1         1     Medium           1           4          3     2   \n",
       "\n",
       "   SalesInThousands  \n",
       "0            33.730  \n",
       "1            35.670  "
      ]
     },
     "execution_count": 3,
     "metadata": {},
     "output_type": "execute_result"
    }
   ],
   "source": [
    "df.head(2)"
   ]
  },
  {
   "cell_type": "markdown",
   "metadata": {},
   "source": [
    "## Dataset library:\n",
    "1. MarketID         : Unique identifier for market\n",
    "2. MarketSize       : Size of market area by sales\n",
    "3. LocationID       : Unique identifier for store location\n",
    "4. AgeOfStore       : Age of store in years\n",
    "5. Promotion        : One of three promotions that were tested\n",
    "6. Week             : One of four weeks when the promotions were run\n",
    "7. SalesInThousands : Sales amount for a specific LocationID, Promotion, and week  "
   ]
  },
  {
   "cell_type": "code",
   "execution_count": 4,
   "metadata": {},
   "outputs": [
    {
     "name": "stdout",
     "output_type": "stream",
     "text": [
      "<class 'pandas.core.frame.DataFrame'>\n",
      "RangeIndex: 548 entries, 0 to 547\n",
      "Data columns (total 7 columns):\n",
      " #   Column            Non-Null Count  Dtype  \n",
      "---  ------            --------------  -----  \n",
      " 0   MarketID          548 non-null    int64  \n",
      " 1   MarketSize        548 non-null    object \n",
      " 2   LocationID        548 non-null    int64  \n",
      " 3   AgeOfStore        548 non-null    int64  \n",
      " 4   Promotion         548 non-null    int64  \n",
      " 5   week              548 non-null    int64  \n",
      " 6   SalesInThousands  548 non-null    float64\n",
      "dtypes: float64(1), int64(5), object(1)\n",
      "memory usage: 30.1+ KB\n"
     ]
    }
   ],
   "source": [
    "df.info()"
   ]
  },
  {
   "cell_type": "code",
   "execution_count": 5,
   "metadata": {},
   "outputs": [
    {
     "data": {
      "text/plain": [
       "(548, 7)"
      ]
     },
     "execution_count": 5,
     "metadata": {},
     "output_type": "execute_result"
    }
   ],
   "source": [
    "df.shape"
   ]
  },
  {
   "cell_type": "code",
   "execution_count": 6,
   "metadata": {},
   "outputs": [
    {
     "data": {
      "text/plain": [
       "<AxesSubplot:>"
      ]
     },
     "execution_count": 6,
     "metadata": {},
     "output_type": "execute_result"
    },
    {
     "data": {
      "image/png": "[encoded data removed]",
      "text/plain": [
       "<Figure size 500x400 with 2 Axes>"
      ]
     },
     "metadata": {},
     "output_type": "display_data"
    }
   ],
   "source": [
    "plt.figure(figsize=(5,4))\n",
    "sns.heatmap(df.isnull(), yticklabels = False)"
   ]
  },
  {
   "cell_type": "code",
   "execution_count": 7,
   "metadata": {},
   "outputs": [
    {
     "name": "stdout",
     "output_type": "stream",
     "text": [
      "column MarketID : [ 1  2  3  4  5  6  7  8  9 10]\n",
      "____________________________________________________________________________________________________\n",
      "column MarketSize : ['Medium' 'Small' 'Large']\n",
      "____________________________________________________________________________________________________\n",
      "column LocationID : [  1   2   3   4   5   6   7   8   9  10  11  12  13 101 102 103 104 105\n",
      " 106 201 202 203 204 205 206 207 208 209 210 211 212 213 214 215 216 217\n",
      " 218 219 220 221 222 301 302 303 304 305 306 307 308 309 401 402 403 404\n",
      " 405 406 407 408 409 410 411 412 413 414 415 501 502 503 504 505 506 507\n",
      " 508 509 510 511 512 513 514 515 601 602 603 604 605 606 607 608 609 610\n",
      " 611 612 613 614 615 701 702 703 704 705 706 707 708 709 710 711 712 801\n",
      " 802 803 804 805 806 807 808 809 810 901 902 903 904 905 906 907 908 909\n",
      " 910 911 912 913 914 915 916 917 918 919 920]\n",
      "____________________________________________________________________________________________________\n",
      "column AgeOfStore : [ 4  5 12  1 10 15  6 22  8 19 11 13  3  7  2 23  9 28 25 14 24 18 27 17\n",
      " 20]\n",
      "____________________________________________________________________________________________________\n",
      "column Promotion : [3 2 1]\n",
      "____________________________________________________________________________________________________\n",
      "column week : [1 2 3 4]\n",
      "____________________________________________________________________________________________________\n",
      "column SalesInThousands : [33.73 35.67 29.03 39.25 27.81 34.67 27.98 27.72 44.54 37.94 45.49 34.75\n",
      " 39.28 39.8  24.77 30.98 30.37 24.82 37.47 23.35 32.9  22.18 42.98 26.68\n",
      " 42.92 42.16 51.72 36.17 30.08 28.62 25.4  27.26 37.41 38.64 40.9  41.11\n",
      " 34.27 29.3  23.93 35.16 33.42 37.93 33.85 40.25 35.85 36.24 41.73 37.32\n",
      " 50.48 36.88 35.68 46.45 67.48 65.57 68.42 60.93 61.59 63.64 54.68 61.24\n",
      " 62.93 58.77 70.6  65.06 59.76 66.11 62.16 64.04 59.65 57.04 59.73 56.72\n",
      " 58.55 62.19 53.14 62.27 86.14 82.56 79.36 77.17 88.73 85.21 81.55 94.17\n",
      " 89.7  78.43 84.05 81.18 87.43 81.79 88.12 75.29 83.02 90.3  85.18 89.77\n",
      " 82.64 82.89 82.13 88.91 87.7  81.16 81.58 94.21 96.48 84.13 91.98 81.72\n",
      " 93.71 96.01 93.03 97.61 85.11 88.07 94.43 89.44 88.64 81.37 82.14 79.64\n",
      " 84.34 87.9  76.12 82.72 73.22 75.88 78.01 80.17 91.6  80.61 93.86 83.43\n",
      " 82.65 77.39 80.83 80.75 94.89 74.75 93.63 80.82 91.61 79.02 86.11 82.88\n",
      " 99.65 86.96 89.25 66.22 82.86 83.4  75.61 87.08 89.32 99.12 85.85 79.53\n",
      " 74.03 78.53 76.71 93.32 85.71 77.36 91.29 49.61 43.69 54.49 61.25 51.47\n",
      " 53.47 46.83 56.7  55.94 61.36 56.19 62.06 54.01 63.48 61.96 55.3  47.89\n",
      " 52.37 49.11 52.88 53.79 66.96 57.1  65.12 46.98 53.41 55.98 51.87 58.01\n",
      " 47.93 51.33 54.06 59.64 52.23 51.68 46.22 46.03 40.4  50.28 52.72 38.3\n",
      " 51.79 42.56 44.64 45.11 42.15 42.59 49.56 48.18 48.25 46.42 43.77 45.3\n",
      " 48.84 45.08 44.67 45.56 55.19 37.84 50.07 47.33 45.42 44.31 40.26 43.27\n",
      " 48.33 44.14 51.5  49.95 55.11 55.28 54.7  50.11 55.59 54.37 51.91 59.34\n",
      " 62.63 49.08 58.04 46.26 47.71 54.09 46.89 57.37 55.53 51.16 57.06 50.59\n",
      " 48.64 50.55 24.75 41.47 35.1  34.33 31.94 29.64 33.64 36.05 36.7  41.53\n",
      " 27.71 37.2  36.8  47.35 32.21 38.41 37.9  44.84 37.45 35.46 31.85 19.26\n",
      " 38.65 17.34 33.14 23.44 37.17 30.52 32.51 29.12 40.46 41.25 32.05 47.5\n",
      " 32.77 30.26 27.55 27.37 47.48 39.41 43.29 35.3  35.86 49.3  30.81 44.98\n",
      " 41.71 41.1  40.97 41.56 36.39 39.67 34.46 40.13 32.18 43.73 49.01 46.29\n",
      " 37.14 42.82 47.22 35.24 43.15 40.71 38.26 41.44 25.7  40.29 48.35 43.26\n",
      " 44.2  46.14 41.12 45.03 38.85 41.96 42.27 38.51 43.51 49.39 42.46 31.62\n",
      " 53.38 55.31 56.1  43.24 43.11 43.78 56.9  53.53 47.92 56.18 46.66 40.43\n",
      " 51.15 42.5  52.76 47.63 52.21 40.17 48.36 42.76 50.52 56.86 47.51 38.56\n",
      " 37.29 35.6  33.35 48.5  48.32 41.54 53.56 49.72 48.77 46.84 51.82 45.02\n",
      " 49.44 51.32 52.85 40.84 64.45 44.43 56.64 46.06 55.46 51.41 49.67 49.98\n",
      " 49.5  50.26 52.05 51.14 46.3  56.99 45.57 45.92 32.61 57.27 41.22 39.73\n",
      " 50.3  40.16 41.37 54.79 52.39 49.63 54.95 55.78 46.49 56.84 48.06 51.09\n",
      " 44.19 49.52 65.11 54.38 57.14 49.91 48.76 58.1  44.16 44.66 53.78 43.91\n",
      " 52.41 50.54 58.43 59.77 60.44 50.94 49.38 63.98 45.84 51.01 56.16 45.77\n",
      " 46.47 46.02 55.91 55.9  59.8  60.97 64.14 39.98 54.58 52.64 45.43 61.8\n",
      " 58.   55.2  53.76 39.36 47.2  53.66 61.53 59.17 63.73 61.77 51.89 51.17\n",
      " 54.33 50.05 54.82 53.95 54.34 60.24 56.39 58.33 51.26 51.73 51.35 41.85\n",
      " 45.21 55.02 45.35 47.06 43.59 58.19 62.72 66.66 64.66 66.34 60.59 61.95\n",
      " 67.84 55.39 49.16 58.26 48.12 55.12 47.36 62.33 53.68 62.37 63.58 44.7\n",
      " 43.44 52.36 45.9  53.51 49.76 68.31 66.1  43.61 46.2  51.52 49.71 53.5\n",
      " 56.34 51.83 50.2  49.62 62.54 61.63 59.87 62.99 57.2  64.34 45.75 44.29\n",
      " 49.41]\n",
      "____________________________________________________________________________________________________\n"
     ]
    }
   ],
   "source": [
    "for i in df.columns:\n",
    "    print(f'column {i} :', df[i].unique())\n",
    "    print('____________________________________________________________________________________________________')"
   ]
  },
  {
   "cell_type": "code",
   "execution_count": 8,
   "metadata": {},
   "outputs": [
    {
     "data": {
      "text/html": [
       "<div>\n",
       "<style scoped>\n",
       "    .dataframe tbody tr th:only-of-type {\n",
       "        vertical-align: middle;\n",
       "    }\n",
       "\n",
       "    .dataframe tbody tr th {\n",
       "        vertical-align: top;\n",
       "    }\n",
       "\n",
       "    .dataframe thead th {\n",
       "        text-align: right;\n",
       "    }\n",
       "</style>\n",
       "<table border=\"1\" class=\"dataframe\">\n",
       "  <thead>\n",
       "    <tr style=\"text-align: right;\">\n",
       "      <th></th>\n",
       "      <th>MarketID</th>\n",
       "      <th>MarketSize</th>\n",
       "      <th>LocationID</th>\n",
       "      <th>AgeOfStore</th>\n",
       "      <th>Promotion</th>\n",
       "      <th>week</th>\n",
       "      <th>SalesInThousands</th>\n",
       "    </tr>\n",
       "  </thead>\n",
       "  <tbody>\n",
       "    <tr>\n",
       "      <th>0</th>\n",
       "      <td>1</td>\n",
       "      <td>Medium</td>\n",
       "      <td>1</td>\n",
       "      <td>4</td>\n",
       "      <td>3</td>\n",
       "      <td>1</td>\n",
       "      <td>33.730</td>\n",
       "    </tr>\n",
       "    <tr>\n",
       "      <th>1</th>\n",
       "      <td>1</td>\n",
       "      <td>Medium</td>\n",
       "      <td>1</td>\n",
       "      <td>4</td>\n",
       "      <td>3</td>\n",
       "      <td>2</td>\n",
       "      <td>35.670</td>\n",
       "    </tr>\n",
       "    <tr>\n",
       "      <th>2</th>\n",
       "      <td>1</td>\n",
       "      <td>Medium</td>\n",
       "      <td>1</td>\n",
       "      <td>4</td>\n",
       "      <td>3</td>\n",
       "      <td>3</td>\n",
       "      <td>29.030</td>\n",
       "    </tr>\n",
       "  </tbody>\n",
       "</table>\n",
       "</div>"
      ],
      "text/plain": [
       "   MarketID MarketSize  LocationID  AgeOfStore  Promotion  week  \\\n",
       "0         1     Medium           1           4          3     1   \n",
       "1         1     Medium           1           4          3     2   \n",
       "2         1     Medium           1           4          3     3   \n",
       "\n",
       "   SalesInThousands  \n",
       "0            33.730  \n",
       "1            35.670  \n",
       "2            29.030  "
      ]
     },
     "execution_count": 8,
     "metadata": {},
     "output_type": "execute_result"
    }
   ],
   "source": [
    "df.head(3)"
   ]
  },
  {
   "cell_type": "markdown",
   "metadata": {},
   "source": [
    "## Promotion/campaign effect on sales"
   ]
  },
  {
   "cell_type": "code",
   "execution_count": 9,
   "metadata": {},
   "outputs": [
    {
     "data": {
      "text/html": [
       "<div>\n",
       "<style scoped>\n",
       "    .dataframe tbody tr th:only-of-type {\n",
       "        vertical-align: middle;\n",
       "    }\n",
       "\n",
       "    .dataframe tbody tr th {\n",
       "        vertical-align: top;\n",
       "    }\n",
       "\n",
       "    .dataframe thead th {\n",
       "        text-align: right;\n",
       "    }\n",
       "</style>\n",
       "<table border=\"1\" class=\"dataframe\">\n",
       "  <thead>\n",
       "    <tr style=\"text-align: right;\">\n",
       "      <th></th>\n",
       "      <th>count</th>\n",
       "      <th>mean</th>\n",
       "      <th>std</th>\n",
       "      <th>min</th>\n",
       "      <th>25%</th>\n",
       "      <th>50%</th>\n",
       "      <th>75%</th>\n",
       "      <th>max</th>\n",
       "    </tr>\n",
       "    <tr>\n",
       "      <th>Promotion</th>\n",
       "      <th></th>\n",
       "      <th></th>\n",
       "      <th></th>\n",
       "      <th></th>\n",
       "      <th></th>\n",
       "      <th></th>\n",
       "      <th></th>\n",
       "      <th></th>\n",
       "    </tr>\n",
       "  </thead>\n",
       "  <tbody>\n",
       "    <tr>\n",
       "      <th>1</th>\n",
       "      <td>172.000</td>\n",
       "      <td>58.099</td>\n",
       "      <td>16.554</td>\n",
       "      <td>30.810</td>\n",
       "      <td>46.353</td>\n",
       "      <td>55.385</td>\n",
       "      <td>63.617</td>\n",
       "      <td>99.650</td>\n",
       "    </tr>\n",
       "    <tr>\n",
       "      <th>2</th>\n",
       "      <td>188.000</td>\n",
       "      <td>47.329</td>\n",
       "      <td>15.109</td>\n",
       "      <td>17.340</td>\n",
       "      <td>38.170</td>\n",
       "      <td>45.385</td>\n",
       "      <td>51.745</td>\n",
       "      <td>88.640</td>\n",
       "    </tr>\n",
       "    <tr>\n",
       "      <th>3</th>\n",
       "      <td>188.000</td>\n",
       "      <td>55.364</td>\n",
       "      <td>16.766</td>\n",
       "      <td>22.180</td>\n",
       "      <td>44.198</td>\n",
       "      <td>51.165</td>\n",
       "      <td>61.733</td>\n",
       "      <td>96.480</td>\n",
       "    </tr>\n",
       "  </tbody>\n",
       "</table>\n",
       "</div>"
      ],
      "text/plain": [
       "            count   mean    std    min    25%    50%    75%    max\n",
       "Promotion                                                         \n",
       "1         172.000 58.099 16.554 30.810 46.353 55.385 63.617 99.650\n",
       "2         188.000 47.329 15.109 17.340 38.170 45.385 51.745 88.640\n",
       "3         188.000 55.364 16.766 22.180 44.198 51.165 61.733 96.480"
      ]
     },
     "execution_count": 9,
     "metadata": {},
     "output_type": "execute_result"
    }
   ],
   "source": [
    "# check for total sales for each promotion\n",
    "\n",
    "total_sales_camp = df.groupby('Promotion')['SalesInThousands'].describe() \n",
    "total_sales_camp "
   ]
  },
  {
   "cell_type": "code",
   "execution_count": 77,
   "metadata": {},
   "outputs": [
    {
     "data": {
      "image/png": "[encoded data removed]",
      "text/plain": [
       "<Figure size 640x480 with 1 Axes>"
      ]
     },
     "metadata": {},
     "output_type": "display_data"
    }
   ],
   "source": [
    "sns.kdeplot(df.SalesInThousands, hue=df.Promotion)\n",
    "plt.show()"
   ]
  },
  {
   "cell_type": "markdown",
   "metadata": {},
   "source": [
    "From distribution of Sales, it seems that there are two kind of normal distribution for each promotion campaign: \n",
    " 1. Sales between $0-75$ \n",
    " 2. Sales between $75-115$"
   ]
  },
  {
   "cell_type": "markdown",
   "metadata": {},
   "source": [
    "- Promotion number 3 brought greatest sales and total sold."
   ]
  },
  {
   "cell_type": "markdown",
   "metadata": {},
   "source": [
    "## Hypothesis testing for two populations"
   ]
  },
  {
   "cell_type": "markdown",
   "metadata": {},
   "source": [
    "There are different total and average sales for promotions 1 and 2, but we are not sure both statistically different. $\\\\$\n",
    "Hence we need to test them with z-test for two independent population. $\\\\$ $\\\\$\n",
    "\n",
    "$z = \\frac{(\\bar{x}_i - \\bar{x}_j)-([H_0])}{\\sqrt{\\frac{s_i^2}{n_i}+\\frac{s_i^2}{n_i}}}$"
   ]
  },
  {
   "cell_type": "code",
   "execution_count": 63,
   "metadata": {},
   "outputs": [],
   "source": [
    "# select data for each promotion\n",
    "\n",
    "prom1 = df.where(df.Promotion == 1).dropna(subset = 'Promotion')[['Promotion','SalesInThousands']]\n",
    "prom2 = df.where(df.Promotion == 2).dropna(subset = 'Promotion')[['Promotion','SalesInThousands']]\n",
    "prom3 = df.where(df.Promotion == 3).dropna(subset = 'Promotion')[['Promotion','SalesInThousands']]"
   ]
  },
  {
   "cell_type": "code",
   "execution_count": 64,
   "metadata": {},
   "outputs": [],
   "source": [
    "# chose sample randomly 40% of them\n",
    "sampel_1 = prom1.iloc[:,1].sample(frac=0.4)\n",
    "sampel_2 = prom2.iloc[:,1].sample(frac=0.4)\n",
    "sampel_3 = prom3.iloc[:,1].sample(frac=0.4)"
   ]
  },
  {
   "cell_type": "code",
   "execution_count": 80,
   "metadata": {},
   "outputs": [
    {
     "data": {
      "text/plain": [
       "<AxesSubplot:xlabel='SalesInThousands', ylabel='Density'>"
      ]
     },
     "execution_count": 80,
     "metadata": {},
     "output_type": "execute_result"
    },
    {
     "data": {
      "image/png": "[encoded data removed]",
      "text/plain": [
       "<Figure size 640x480 with 1 Axes>"
      ]
     },
     "metadata": {},
     "output_type": "display_data"
    }
   ],
   "source": [
    "sns.distplot(sampel_1)\n",
    "sns.distplot(sampel_2)"
   ]
  },
  {
   "cell_type": "code",
   "execution_count": 57,
   "metadata": {},
   "outputs": [
    {
     "data": {
      "text/plain": [
       "count   69.000\n",
       "mean    59.086\n",
       "std     17.758\n",
       "min     32.050\n",
       "25%     47.500\n",
       "50%     55.110\n",
       "75%     63.730\n",
       "max     99.650\n",
       "Name: SalesInThousands, dtype: float64"
      ]
     },
     "execution_count": 57,
     "metadata": {},
     "output_type": "execute_result"
    }
   ],
   "source": [
    "sampel_1.describe()"
   ]
  },
  {
   "cell_type": "markdown",
   "metadata": {},
   "source": [
    "Hypothesis: $\\\\$ $\\\\$\n",
    "\n",
    "$H_0: \\bar{x}_2 - \\bar{x}_1 \\leq 0$ $\\\\$ \n",
    "$H_1: \\bar{x}_1 > \\bar{x}_2$ $\\\\$ "
   ]
  },
  {
   "cell_type": "code",
   "execution_count": 13,
   "metadata": {},
   "outputs": [],
   "source": [
    "#z-test for two independent population one tail with \\alpha = 5%\n",
    "#created by AAdika45\n",
    "\n",
    "# a code of standard deviation by definition\n",
    "def std_sampel(data):\n",
    "    sigma = 0\n",
    "    if len(data) == 0:\n",
    "        print('There is no data')\n",
    "        pass\n",
    "    else:\n",
    "        avg = data.mean()\n",
    "        for i in data:\n",
    "            sigma += (i - avg)**2\n",
    "            std = np.sqrt(sigma/len(data)-1)\n",
    "    std = float(\"{:.3f}\".format(std))\n",
    "    return std\n",
    "\n",
    "def z_test_twoPop(data1,data2):\n",
    "    zeta = data1.mean() - data2.mean()\n",
    "    omega = std_sampel(data1)**2/len(data1) + std_sampel(data2)**2/len(data2) \n",
    "    gamma = np.sqrt(omega)\n",
    "    z = zeta/gamma\n",
    "    if  z > 1.645: #change condition if you need two tails test, then the condition must (\\alpha = 5%): z<1.645 or z>1.645\n",
    "        print(f'Hypothesis H_0 is rejected!')\n",
    "    else:\n",
    "        print(f'Hypothesis H_0 is failed to be rejected!')\n",
    "    return"
   ]
  },
  {
   "cell_type": "code",
   "execution_count": 14,
   "metadata": {},
   "outputs": [
    {
     "name": "stdout",
     "output_type": "stream",
     "text": [
      "Hypothesis H_0 is rejected!\n"
     ]
    }
   ],
   "source": [
    "z_test_twoPop(sampel_1,sampel_2)"
   ]
  },
  {
   "cell_type": "markdown",
   "metadata": {},
   "source": [
    "H_0 is rejected. We 95% confidently say that promotion 1 has bigger average sales than promotion 2!"
   ]
  },
  {
   "cell_type": "markdown",
   "metadata": {},
   "source": [
    "## Total sold and sales for each market size"
   ]
  },
  {
   "cell_type": "code",
   "execution_count": 15,
   "metadata": {},
   "outputs": [
    {
     "data": {
      "text/html": [
       "<div>\n",
       "<style scoped>\n",
       "    .dataframe tbody tr th:only-of-type {\n",
       "        vertical-align: middle;\n",
       "    }\n",
       "\n",
       "    .dataframe tbody tr th {\n",
       "        vertical-align: top;\n",
       "    }\n",
       "\n",
       "    .dataframe thead th {\n",
       "        text-align: right;\n",
       "    }\n",
       "</style>\n",
       "<table border=\"1\" class=\"dataframe\">\n",
       "  <thead>\n",
       "    <tr style=\"text-align: right;\">\n",
       "      <th></th>\n",
       "      <th>count</th>\n",
       "      <th>mean</th>\n",
       "      <th>std</th>\n",
       "      <th>min</th>\n",
       "      <th>25%</th>\n",
       "      <th>50%</th>\n",
       "      <th>75%</th>\n",
       "      <th>max</th>\n",
       "    </tr>\n",
       "    <tr>\n",
       "      <th>MarketSize</th>\n",
       "      <th></th>\n",
       "      <th></th>\n",
       "      <th></th>\n",
       "      <th></th>\n",
       "      <th></th>\n",
       "      <th></th>\n",
       "      <th></th>\n",
       "      <th></th>\n",
       "    </tr>\n",
       "  </thead>\n",
       "  <tbody>\n",
       "    <tr>\n",
       "      <th>Large</th>\n",
       "      <td>168.000</td>\n",
       "      <td>70.117</td>\n",
       "      <td>17.052</td>\n",
       "      <td>39.360</td>\n",
       "      <td>53.622</td>\n",
       "      <td>75.020</td>\n",
       "      <td>84.532</td>\n",
       "      <td>99.650</td>\n",
       "    </tr>\n",
       "    <tr>\n",
       "      <th>Medium</th>\n",
       "      <td>320.000</td>\n",
       "      <td>43.985</td>\n",
       "      <td>9.051</td>\n",
       "      <td>17.340</td>\n",
       "      <td>37.922</td>\n",
       "      <td>44.590</td>\n",
       "      <td>50.345</td>\n",
       "      <td>65.110</td>\n",
       "    </tr>\n",
       "    <tr>\n",
       "      <th>Small</th>\n",
       "      <td>60.000</td>\n",
       "      <td>57.409</td>\n",
       "      <td>6.633</td>\n",
       "      <td>36.170</td>\n",
       "      <td>53.343</td>\n",
       "      <td>57.555</td>\n",
       "      <td>62.160</td>\n",
       "      <td>70.600</td>\n",
       "    </tr>\n",
       "  </tbody>\n",
       "</table>\n",
       "</div>"
      ],
      "text/plain": [
       "             count   mean    std    min    25%    50%    75%    max\n",
       "MarketSize                                                         \n",
       "Large      168.000 70.117 17.052 39.360 53.622 75.020 84.532 99.650\n",
       "Medium     320.000 43.985  9.051 17.340 37.922 44.590 50.345 65.110\n",
       "Small       60.000 57.409  6.633 36.170 53.343 57.555 62.160 70.600"
      ]
     },
     "execution_count": 15,
     "metadata": {},
     "output_type": "execute_result"
    }
   ],
   "source": [
    "## check for total sales for each marketsize\n",
    "\n",
    "total_sales_marks = df.groupby('MarketSize')['SalesInThousands'].describe() \n",
    "total_sales_marks"
   ]
  },
  {
   "cell_type": "markdown",
   "metadata": {},
   "source": [
    "- Large market type has greatest average sales with total sold of 168."
   ]
  },
  {
   "cell_type": "code",
   "execution_count": 16,
   "metadata": {},
   "outputs": [
    {
     "data": {
      "text/html": [
       "<div>\n",
       "<style scoped>\n",
       "    .dataframe tbody tr th:only-of-type {\n",
       "        vertical-align: middle;\n",
       "    }\n",
       "\n",
       "    .dataframe tbody tr th {\n",
       "        vertical-align: top;\n",
       "    }\n",
       "\n",
       "    .dataframe thead tr th {\n",
       "        text-align: left;\n",
       "    }\n",
       "\n",
       "    .dataframe thead tr:last-of-type th {\n",
       "        text-align: right;\n",
       "    }\n",
       "</style>\n",
       "<table border=\"1\" class=\"dataframe\">\n",
       "  <thead>\n",
       "    <tr>\n",
       "      <th></th>\n",
       "      <th>Promotion</th>\n",
       "      <th colspan=\"3\" halign=\"left\">SalesInThousands</th>\n",
       "    </tr>\n",
       "    <tr>\n",
       "      <th></th>\n",
       "      <th>count</th>\n",
       "      <th>sum</th>\n",
       "      <th>mean</th>\n",
       "      <th>std</th>\n",
       "    </tr>\n",
       "    <tr>\n",
       "      <th>Promotion</th>\n",
       "      <th></th>\n",
       "      <th></th>\n",
       "      <th></th>\n",
       "      <th></th>\n",
       "    </tr>\n",
       "  </thead>\n",
       "  <tbody>\n",
       "    <tr>\n",
       "      <th>1</th>\n",
       "      <td>172</td>\n",
       "      <td>9993.030</td>\n",
       "      <td>58.099</td>\n",
       "      <td>16.554</td>\n",
       "    </tr>\n",
       "    <tr>\n",
       "      <th>2</th>\n",
       "      <td>188</td>\n",
       "      <td>8897.930</td>\n",
       "      <td>47.329</td>\n",
       "      <td>15.109</td>\n",
       "    </tr>\n",
       "    <tr>\n",
       "      <th>3</th>\n",
       "      <td>188</td>\n",
       "      <td>10408.520</td>\n",
       "      <td>55.364</td>\n",
       "      <td>16.766</td>\n",
       "    </tr>\n",
       "  </tbody>\n",
       "</table>\n",
       "</div>"
      ],
      "text/plain": [
       "          Promotion SalesInThousands              \n",
       "              count              sum   mean    std\n",
       "Promotion                                         \n",
       "1               172         9993.030 58.099 16.554\n",
       "2               188         8897.930 47.329 15.109\n",
       "3               188        10408.520 55.364 16.766"
      ]
     },
     "execution_count": 16,
     "metadata": {},
     "output_type": "execute_result"
    }
   ],
   "source": [
    "df.groupby(['Promotion']).agg({\n",
    "    'Promotion':'count',\n",
    "    'SalesInThousands':['sum','mean','std']\n",
    "})"
   ]
  },
  {
   "cell_type": "code",
   "execution_count": 17,
   "metadata": {},
   "outputs": [
    {
     "data": {
      "text/html": [
       "<div>\n",
       "<style scoped>\n",
       "    .dataframe tbody tr th:only-of-type {\n",
       "        vertical-align: middle;\n",
       "    }\n",
       "\n",
       "    .dataframe tbody tr th {\n",
       "        vertical-align: top;\n",
       "    }\n",
       "\n",
       "    .dataframe thead tr th {\n",
       "        text-align: left;\n",
       "    }\n",
       "\n",
       "    .dataframe thead tr:last-of-type th {\n",
       "        text-align: right;\n",
       "    }\n",
       "</style>\n",
       "<table border=\"1\" class=\"dataframe\">\n",
       "  <thead>\n",
       "    <tr>\n",
       "      <th></th>\n",
       "      <th>Promotion</th>\n",
       "      <th colspan=\"3\" halign=\"left\">SalesInThousands</th>\n",
       "    </tr>\n",
       "    <tr>\n",
       "      <th></th>\n",
       "      <th>count</th>\n",
       "      <th>sum</th>\n",
       "      <th>mean</th>\n",
       "      <th>std</th>\n",
       "    </tr>\n",
       "    <tr>\n",
       "      <th>MarketSize</th>\n",
       "      <th></th>\n",
       "      <th></th>\n",
       "      <th></th>\n",
       "      <th></th>\n",
       "    </tr>\n",
       "  </thead>\n",
       "  <tbody>\n",
       "    <tr>\n",
       "      <th>Large</th>\n",
       "      <td>168</td>\n",
       "      <td>11779.610</td>\n",
       "      <td>70.117</td>\n",
       "      <td>17.052</td>\n",
       "    </tr>\n",
       "    <tr>\n",
       "      <th>Medium</th>\n",
       "      <td>320</td>\n",
       "      <td>14075.310</td>\n",
       "      <td>43.985</td>\n",
       "      <td>9.051</td>\n",
       "    </tr>\n",
       "    <tr>\n",
       "      <th>Small</th>\n",
       "      <td>60</td>\n",
       "      <td>3444.560</td>\n",
       "      <td>57.409</td>\n",
       "      <td>6.633</td>\n",
       "    </tr>\n",
       "  </tbody>\n",
       "</table>\n",
       "</div>"
      ],
      "text/plain": [
       "           Promotion SalesInThousands              \n",
       "               count              sum   mean    std\n",
       "MarketSize                                         \n",
       "Large            168        11779.610 70.117 17.052\n",
       "Medium           320        14075.310 43.985  9.051\n",
       "Small             60         3444.560 57.409  6.633"
      ]
     },
     "execution_count": 17,
     "metadata": {},
     "output_type": "execute_result"
    }
   ],
   "source": [
    "df.groupby(['MarketSize']).agg({\n",
    "    'Promotion':'count',\n",
    "    'SalesInThousands':['sum','mean','std']\n",
    "})"
   ]
  },
  {
   "cell_type": "markdown",
   "metadata": {},
   "source": [
    "From the table above, we use ANOVA (Analysis of Variance) to see the relation each Marketsize vs Promotion"
   ]
  },
  {
   "cell_type": "markdown",
   "metadata": {},
   "source": [
    "## ANOVA (Analysis of Variance)"
   ]
  },
  {
   "cell_type": "markdown",
   "metadata": {},
   "source": [
    "We want to see how Promotion or MarketSize effect on Sales. Since there are two factors of interest: Promotion and Market Size, hence we are going to perform ANOVA two ways."
   ]
  },
  {
   "cell_type": "markdown",
   "metadata": {},
   "source": [
    "Hypothesis:\n",
    "1) $H_0$ : Promotion does not effect on total sales\n",
    "2) $H_0$ : Market Size does not effect on total sales\n",
    "3) $H_0$ : There is no interaction effect both Promotion and MarketSize on total sales "
   ]
  },
  {
   "cell_type": "code",
   "execution_count": 18,
   "metadata": {},
   "outputs": [
    {
     "data": {
      "text/html": [
       "<div>\n",
       "<style scoped>\n",
       "    .dataframe tbody tr th:only-of-type {\n",
       "        vertical-align: middle;\n",
       "    }\n",
       "\n",
       "    .dataframe tbody tr th {\n",
       "        vertical-align: top;\n",
       "    }\n",
       "\n",
       "    .dataframe thead th {\n",
       "        text-align: right;\n",
       "    }\n",
       "</style>\n",
       "<table border=\"1\" class=\"dataframe\">\n",
       "  <thead>\n",
       "    <tr style=\"text-align: right;\">\n",
       "      <th></th>\n",
       "      <th>MarketSize</th>\n",
       "      <th>Promotion</th>\n",
       "      <th>SalesInThousands</th>\n",
       "    </tr>\n",
       "  </thead>\n",
       "  <tbody>\n",
       "    <tr>\n",
       "      <th>547</th>\n",
       "      <td>Large</td>\n",
       "      <td>2</td>\n",
       "      <td>49.410</td>\n",
       "    </tr>\n",
       "    <tr>\n",
       "      <th>107</th>\n",
       "      <td>Large</td>\n",
       "      <td>3</td>\n",
       "      <td>81.720</td>\n",
       "    </tr>\n",
       "    <tr>\n",
       "      <th>108</th>\n",
       "      <td>Large</td>\n",
       "      <td>1</td>\n",
       "      <td>93.710</td>\n",
       "    </tr>\n",
       "    <tr>\n",
       "      <th>109</th>\n",
       "      <td>Large</td>\n",
       "      <td>1</td>\n",
       "      <td>96.010</td>\n",
       "    </tr>\n",
       "    <tr>\n",
       "      <th>110</th>\n",
       "      <td>Large</td>\n",
       "      <td>1</td>\n",
       "      <td>93.030</td>\n",
       "    </tr>\n",
       "    <tr>\n",
       "      <th>...</th>\n",
       "      <td>...</td>\n",
       "      <td>...</td>\n",
       "      <td>...</td>\n",
       "    </tr>\n",
       "    <tr>\n",
       "      <th>62</th>\n",
       "      <td>Small</td>\n",
       "      <td>3</td>\n",
       "      <td>70.600</td>\n",
       "    </tr>\n",
       "    <tr>\n",
       "      <th>63</th>\n",
       "      <td>Small</td>\n",
       "      <td>3</td>\n",
       "      <td>65.060</td>\n",
       "    </tr>\n",
       "    <tr>\n",
       "      <th>64</th>\n",
       "      <td>Small</td>\n",
       "      <td>3</td>\n",
       "      <td>59.760</td>\n",
       "    </tr>\n",
       "    <tr>\n",
       "      <th>66</th>\n",
       "      <td>Small</td>\n",
       "      <td>3</td>\n",
       "      <td>62.160</td>\n",
       "    </tr>\n",
       "    <tr>\n",
       "      <th>71</th>\n",
       "      <td>Small</td>\n",
       "      <td>3</td>\n",
       "      <td>56.720</td>\n",
       "    </tr>\n",
       "  </tbody>\n",
       "</table>\n",
       "<p>548 rows × 3 columns</p>\n",
       "</div>"
      ],
      "text/plain": [
       "    MarketSize  Promotion  SalesInThousands\n",
       "547      Large          2            49.410\n",
       "107      Large          3            81.720\n",
       "108      Large          1            93.710\n",
       "109      Large          1            96.010\n",
       "110      Large          1            93.030\n",
       "..         ...        ...               ...\n",
       "62       Small          3            70.600\n",
       "63       Small          3            65.060\n",
       "64       Small          3            59.760\n",
       "66       Small          3            62.160\n",
       "71       Small          3            56.720\n",
       "\n",
       "[548 rows x 3 columns]"
      ]
     },
     "execution_count": 18,
     "metadata": {},
     "output_type": "execute_result"
    }
   ],
   "source": [
    "anv = df[['MarketSize','Promotion','SalesInThousands']].sort_values(by = 'MarketSize')\n",
    "anv"
   ]
  },
  {
   "cell_type": "code",
   "execution_count": 19,
   "metadata": {},
   "outputs": [],
   "source": [
    "from statsmodels.formula.api import ols\n",
    "from statsmodels.stats.anova import anova_lm"
   ]
  },
  {
   "cell_type": "code",
   "execution_count": 20,
   "metadata": {},
   "outputs": [],
   "source": [
    "formula = 'SalesInThousands ~ C(MarketSize) + C(Promotion) +C(MarketSize):C(Promotion)'"
   ]
  },
  {
   "cell_type": "code",
   "execution_count": 21,
   "metadata": {},
   "outputs": [
    {
     "data": {
      "text/html": [
       "<div>\n",
       "<style scoped>\n",
       "    .dataframe tbody tr th:only-of-type {\n",
       "        vertical-align: middle;\n",
       "    }\n",
       "\n",
       "    .dataframe tbody tr th {\n",
       "        vertical-align: top;\n",
       "    }\n",
       "\n",
       "    .dataframe thead th {\n",
       "        text-align: right;\n",
       "    }\n",
       "</style>\n",
       "<table border=\"1\" class=\"dataframe\">\n",
       "  <thead>\n",
       "    <tr style=\"text-align: right;\">\n",
       "      <th></th>\n",
       "      <th>sum_sq</th>\n",
       "      <th>df</th>\n",
       "      <th>F</th>\n",
       "      <th>PR(&gt;F)</th>\n",
       "    </tr>\n",
       "  </thead>\n",
       "  <tbody>\n",
       "    <tr>\n",
       "      <th>C(MarketSize)</th>\n",
       "      <td>77803.042</td>\n",
       "      <td>2.000</td>\n",
       "      <td>337.136</td>\n",
       "      <td>0.000</td>\n",
       "    </tr>\n",
       "    <tr>\n",
       "      <th>C(Promotion)</th>\n",
       "      <td>12979.271</td>\n",
       "      <td>2.000</td>\n",
       "      <td>56.242</td>\n",
       "      <td>0.000</td>\n",
       "    </tr>\n",
       "    <tr>\n",
       "      <th>C(MarketSize):C(Promotion)</th>\n",
       "      <td>2116.740</td>\n",
       "      <td>4.000</td>\n",
       "      <td>4.586</td>\n",
       "      <td>0.001</td>\n",
       "    </tr>\n",
       "    <tr>\n",
       "      <th>Residual</th>\n",
       "      <td>62194.324</td>\n",
       "      <td>539.000</td>\n",
       "      <td>NaN</td>\n",
       "      <td>NaN</td>\n",
       "    </tr>\n",
       "  </tbody>\n",
       "</table>\n",
       "</div>"
      ],
      "text/plain": [
       "                              sum_sq      df       F  PR(>F)\n",
       "C(MarketSize)              77803.042   2.000 337.136   0.000\n",
       "C(Promotion)               12979.271   2.000  56.242   0.000\n",
       "C(MarketSize):C(Promotion)  2116.740   4.000   4.586   0.001\n",
       "Residual                   62194.324 539.000     NaN     NaN"
      ]
     },
     "execution_count": 21,
     "metadata": {},
     "output_type": "execute_result"
    }
   ],
   "source": [
    "test = ols(formula,anv).fit()\n",
    "anova_2 = anova_lm(test,typ=2)\n",
    "anova_2"
   ]
  },
  {
   "cell_type": "markdown",
   "metadata": {},
   "source": [
    "From the table above, we have evidence that:\n",
    "- Market Size does effect on total sales\n",
    "- Promotion does effect on total sales\n",
    "- There is interaction effect (Promotion and MarketSize) on total sales;"
   ]
  },
  {
   "cell_type": "markdown",
   "metadata": {},
   "source": [
    "## Machine Learning Tools\n",
    "\n",
    "\n",
    "We investigate relation between age of store or Market size to Sales. Age of store is continues data, but Market Size is categorical data. Prepare the data and transform categorical data to numeric"
   ]
  },
  {
   "cell_type": "code",
   "execution_count": 30,
   "metadata": {},
   "outputs": [],
   "source": [
    "regression = df[['MarketSize','AgeOfStore','SalesInThousands']]"
   ]
  },
  {
   "cell_type": "code",
   "execution_count": 31,
   "metadata": {},
   "outputs": [],
   "source": [
    "# import machine learning library \n",
    "\n",
    "import sklearn\n",
    "from sklearn.preprocessing import LabelEncoder"
   ]
  },
  {
   "cell_type": "code",
   "execution_count": 32,
   "metadata": {},
   "outputs": [],
   "source": [
    "Le = LabelEncoder()\n",
    "regression['MarketSize'] = Le.fit_transform(regression['MarketSize'])\n"
   ]
  },
  {
   "cell_type": "markdown",
   "metadata": {},
   "source": [
    "### Correlation Matrix"
   ]
  },
  {
   "cell_type": "markdown",
   "metadata": {},
   "source": [
    "Correlation Matrix is a matrix that contain a correlation value (linearly) between two variables. Correlation, $r$, between two variables defined as $\\\\$\n",
    "\n",
    "$ r = \\frac{\\sum_{i=1}^n(x_i - \\bar{x})(y_i - \\bar{y})}{\\sqrt{\\sum_{i=1}^n(x_i - \\bar{x})^2(y_i - \\bar{y})^2}}$, $\\\\$\n",
    "\n",
    "where $r>0$ is positively correlated; $r<0$ is negatively correlated; $-1\\leq r\\leq 1$."
   ]
  },
  {
   "cell_type": "code",
   "execution_count": 33,
   "metadata": {},
   "outputs": [
    {
     "data": {
      "image/png": "[encoded data removed]",
      "text/plain": [
       "<Figure size 600x300 with 2 Axes>"
      ]
     },
     "metadata": {},
     "output_type": "display_data"
    }
   ],
   "source": [
    "plt.figure(figsize=(6,3))\n",
    "sns.set_theme(style=\"white\")\n",
    "corr = regression.corr()\n",
    "mask = np.triu(np.ones_like(corr, dtype=np.bool))\n",
    "sns.heatmap(corr, mask=mask, annot=True,vmin =-1, vmax=1, center=0,\n",
    "            square=True, linewidths=.5, cmap = 'viridis')\n",
    "plt.show()"
   ]
  },
  {
   "cell_type": "code",
   "execution_count": 34,
   "metadata": {},
   "outputs": [
    {
     "data": {
      "image/png": "[encoded data removed]",
      "text/plain": [
       "<Figure size 400x300 with 1 Axes>"
      ]
     },
     "metadata": {},
     "output_type": "display_data"
    }
   ],
   "source": [
    "plt.figure(figsize=(4,3))\n",
    "plt.scatter(regression.AgeOfStore, np.log(regression.SalesInThousands))\n",
    "plt.title('AgeofStore vs SalesInThousands')\n",
    "plt.xlabel('Age')\n",
    "plt.ylabel('Sales (in K)')\n",
    "plt.show()"
   ]
  },
  {
   "cell_type": "markdown",
   "metadata": {},
   "source": [
    "AgeofStore vs SalesInThousands scatter plots are not linearly distributed, and it's also shown at a correlation value of -0.03.\n",
    "Therefore, it is unnecessary to make linear regression between AgeofStore and SalesInThousands (the data more like area between two damped waves function: http://hyperphysics.phy-astr.gsu.edu/hbase/oscda.html) $\\\\$\n",
    "\n",
    "To explain how the data is distributed is with one of the methods in numerical analysis (a powerful methods in physics to describe experiment data), which is not going to do for this time."
   ]
  },
  {
   "cell_type": "code",
   "execution_count": 35,
   "metadata": {},
   "outputs": [
    {
     "data": {
      "image/png": "[encoded data removed]",
      "text/plain": [
       "<Figure size 400x300 with 1 Axes>"
      ]
     },
     "metadata": {},
     "output_type": "display_data"
    }
   ],
   "source": [
    "plt.figure(figsize=(4,3))\n",
    "plt.scatter(regression.MarketSize, regression.SalesInThousands)\n",
    "plt.xlabel('Market Size')\n",
    "plt.ylabel('Sales (in K)')\n",
    "plt.title('MarketSize vs SalesInThousands')\n",
    "plt.show()"
   ]
  },
  {
   "cell_type": "markdown",
   "metadata": {},
   "source": [
    "The distribution is expected, consider the x-axis is categorical data"
   ]
  },
  {
   "cell_type": "markdown",
   "metadata": {},
   "source": [
    "From the correlation matrix, it is shown that the data is not linearly distributed. But, for our portfolio, we will show you the logistic model for three variables: AgeofStore, SalesInThousands, and MarketSize. $\\\\$\n",
    "\n",
    "We will also compare to another machine learning method: K-Nearest Neighbor (KNN), as it is a classification method for non-linearly distributed data."
   ]
  },
  {
   "cell_type": "markdown",
   "metadata": {},
   "source": [
    "### Logistic Regression"
   ]
  },
  {
   "cell_type": "markdown",
   "metadata": {},
   "source": [
    "Logistic regression is a regression to make a model of a dataset logistically distributed. The idea is to find the likelihood of two categorical data (yes or no; True or False; etc.), but it's also used for more than two categorical data, known as multi-class logistic regression. Logistic regression comprehensive explanation can be found in your favourite statistics books."
   ]
  },
  {
   "cell_type": "code",
   "execution_count": 36,
   "metadata": {},
   "outputs": [],
   "source": [
    "# import split and train data\n",
    "\n",
    "from sklearn.model_selection import train_test_split"
   ]
  },
  {
   "cell_type": "code",
   "execution_count": 37,
   "metadata": {},
   "outputs": [
    {
     "data": {
      "text/html": [
       "<div>\n",
       "<style scoped>\n",
       "    .dataframe tbody tr th:only-of-type {\n",
       "        vertical-align: middle;\n",
       "    }\n",
       "\n",
       "    .dataframe tbody tr th {\n",
       "        vertical-align: top;\n",
       "    }\n",
       "\n",
       "    .dataframe thead th {\n",
       "        text-align: right;\n",
       "    }\n",
       "</style>\n",
       "<table border=\"1\" class=\"dataframe\">\n",
       "  <thead>\n",
       "    <tr style=\"text-align: right;\">\n",
       "      <th></th>\n",
       "      <th>MarketSize</th>\n",
       "      <th>AgeOfStore</th>\n",
       "      <th>SalesInThousands</th>\n",
       "    </tr>\n",
       "  </thead>\n",
       "  <tbody>\n",
       "    <tr>\n",
       "      <th>0</th>\n",
       "      <td>1</td>\n",
       "      <td>4</td>\n",
       "      <td>33.730</td>\n",
       "    </tr>\n",
       "    <tr>\n",
       "      <th>1</th>\n",
       "      <td>1</td>\n",
       "      <td>4</td>\n",
       "      <td>35.670</td>\n",
       "    </tr>\n",
       "    <tr>\n",
       "      <th>2</th>\n",
       "      <td>1</td>\n",
       "      <td>4</td>\n",
       "      <td>29.030</td>\n",
       "    </tr>\n",
       "  </tbody>\n",
       "</table>\n",
       "</div>"
      ],
      "text/plain": [
       "   MarketSize  AgeOfStore  SalesInThousands\n",
       "0           1           4            33.730\n",
       "1           1           4            35.670\n",
       "2           1           4            29.030"
      ]
     },
     "execution_count": 37,
     "metadata": {},
     "output_type": "execute_result"
    }
   ],
   "source": [
    "regression.head(3)"
   ]
  },
  {
   "cell_type": "code",
   "execution_count": 38,
   "metadata": {},
   "outputs": [],
   "source": [
    "# prepare train and test data\n",
    "\n",
    "X = regression.drop(columns=['MarketSize'])\n",
    "y = regression[['MarketSize']]\n",
    " \n",
    "X_train, X_test, y_train, y_test = train_test_split(X, y, test_size=0.3, random_state=42)"
   ]
  },
  {
   "cell_type": "code",
   "execution_count": 39,
   "metadata": {},
   "outputs": [],
   "source": [
    "# import logistics regression library\n",
    "\n",
    "from sklearn.linear_model import LogisticRegression"
   ]
  },
  {
   "cell_type": "code",
   "execution_count": 40,
   "metadata": {},
   "outputs": [
    {
     "data": {
      "text/plain": [
       "LogisticRegression(multi_class='multinomial')"
      ]
     },
     "execution_count": 40,
     "metadata": {},
     "output_type": "execute_result"
    }
   ],
   "source": [
    "# perform logistic regression\n",
    "\n",
    "lr = LogisticRegression(multi_class='multinomial', solver='lbfgs')\n",
    "lr.fit(X,y)"
   ]
  },
  {
   "cell_type": "code",
   "execution_count": 41,
   "metadata": {},
   "outputs": [],
   "source": [
    "y_predict = lr.predict(X_test)"
   ]
  },
  {
   "cell_type": "code",
   "execution_count": 42,
   "metadata": {},
   "outputs": [
    {
     "data": {
      "text/html": [
       "<div>\n",
       "<style scoped>\n",
       "    .dataframe tbody tr th:only-of-type {\n",
       "        vertical-align: middle;\n",
       "    }\n",
       "\n",
       "    .dataframe tbody tr th {\n",
       "        vertical-align: top;\n",
       "    }\n",
       "\n",
       "    .dataframe thead th {\n",
       "        text-align: right;\n",
       "    }\n",
       "</style>\n",
       "<table border=\"1\" class=\"dataframe\">\n",
       "  <thead>\n",
       "    <tr style=\"text-align: right;\">\n",
       "      <th></th>\n",
       "      <th>MarketSize</th>\n",
       "      <th>predict</th>\n",
       "    </tr>\n",
       "  </thead>\n",
       "  <tbody>\n",
       "    <tr>\n",
       "      <th>247</th>\n",
       "      <td>1</td>\n",
       "      <td>0</td>\n",
       "    </tr>\n",
       "    <tr>\n",
       "      <th>78</th>\n",
       "      <td>0</td>\n",
       "      <td>0</td>\n",
       "    </tr>\n",
       "    <tr>\n",
       "      <th>245</th>\n",
       "      <td>1</td>\n",
       "      <td>0</td>\n",
       "    </tr>\n",
       "    <tr>\n",
       "      <th>353</th>\n",
       "      <td>1</td>\n",
       "      <td>1</td>\n",
       "    </tr>\n",
       "    <tr>\n",
       "      <th>477</th>\n",
       "      <td>0</td>\n",
       "      <td>1</td>\n",
       "    </tr>\n",
       "  </tbody>\n",
       "</table>\n",
       "</div>"
      ],
      "text/plain": [
       "     MarketSize  predict\n",
       "247           1        0\n",
       "78            0        0\n",
       "245           1        0\n",
       "353           1        1\n",
       "477           0        1"
      ]
     },
     "execution_count": 42,
     "metadata": {},
     "output_type": "execute_result"
    }
   ],
   "source": [
    "# compare the predict and actual data\n",
    "\n",
    "y_compare = y_test.copy()\n",
    "y_compare['predict'] = y_predict\n",
    "y_compare.head(5)"
   ]
  },
  {
   "cell_type": "markdown",
   "metadata": {},
   "source": [
    "From the table result, first 5 data is not predicted well. Next, we look persentage of accuracy of the model."
   ]
  },
  {
   "cell_type": "code",
   "execution_count": 43,
   "metadata": {},
   "outputs": [],
   "source": [
    "# import model report\n",
    "\n",
    "from sklearn.metrics import confusion_matrix, classification_report"
   ]
  },
  {
   "cell_type": "code",
   "execution_count": 44,
   "metadata": {},
   "outputs": [
    {
     "name": "stdout",
     "output_type": "stream",
     "text": [
      "              precision    recall  f1-score   support\n",
      "\n",
      "           0       0.64      0.67      0.65        55\n",
      "           1       0.76      0.91      0.83        88\n",
      "           2       0.50      0.05      0.08        22\n",
      "\n",
      "    accuracy                           0.72       165\n",
      "   macro avg       0.63      0.54      0.52       165\n",
      "weighted avg       0.69      0.72      0.67       165\n",
      "\n"
     ]
    }
   ],
   "source": [
    "print(classification_report(y_test, y_predict))"
   ]
  },
  {
   "cell_type": "markdown",
   "metadata": {},
   "source": [
    "Logistic regression has been permormed."
   ]
  },
  {
   "cell_type": "code",
   "execution_count": 45,
   "metadata": {},
   "outputs": [
    {
     "data": {
      "image/png": "[encoded data removed]",
      "text/plain": [
       "<Figure size 600x300 with 2 Axes>"
      ]
     },
     "metadata": {},
     "output_type": "display_data"
    }
   ],
   "source": [
    "# import confusion matrix\n",
    "\n",
    "plt.figure(figsize=(6,3))\n",
    "sns.set_theme(style=\"white\")\n",
    "sns.heatmap(confusion_matrix(y_test, y_predict), annot=True)\n",
    "plt.show()"
   ]
  },
  {
   "cell_type": "markdown",
   "metadata": {},
   "source": [
    "From the results of the confusion metric with logistic regression, it can be seen that the model can correctly predict the value of 37  0_marketsize, 80 1_marketsize and 1 2_marketsize."
   ]
  },
  {
   "cell_type": "markdown",
   "metadata": {},
   "source": [
    "### K-Nearest Neighbor (KNN)"
   ]
  },
  {
   "cell_type": "code",
   "execution_count": 46,
   "metadata": {},
   "outputs": [],
   "source": [
    "# import knn package\n",
    "\n",
    "from sklearn.neighbors import KNeighborsClassifier"
   ]
  },
  {
   "cell_type": "code",
   "execution_count": 47,
   "metadata": {},
   "outputs": [
    {
     "data": {
      "image/png": "[encoded data removed]",
      "text/plain": [
       "<Figure size 600x400 with 1 Axes>"
      ]
     },
     "metadata": {},
     "output_type": "display_data"
    }
   ],
   "source": [
    "#elbow methods to find correct k value to optimize the model\n",
    "\n",
    "from ftplib import error_reply\n",
    "from tkinter import N\n",
    "\n",
    "error_rate = []\n",
    "for i in range(1,41):\n",
    "    knn = KNeighborsClassifier(n_neighbors= i)\n",
    "    knn.fit(X_train,y_train)\n",
    "    predict_i = knn.predict(X_test)\n",
    "    error_rate.append(np.mean(predict_i.reshape(165,1)!= y_test))\n",
    "    \n",
    "plt.figure(figsize=(6,4))\n",
    "plt.plot(range(1,41), error_rate, color = 'blue', linestyle = '--', marker = 'o',\n",
    "markerfacecolor = 'red', markersize = 4)\n",
    "plt.grid()\n",
    "plt.show()"
   ]
  },
  {
   "cell_type": "markdown",
   "metadata": {},
   "source": [
    "Minimum value is between 5-10 therefore we chose one of them to be k at our knn model."
   ]
  },
  {
   "cell_type": "code",
   "execution_count": 48,
   "metadata": {},
   "outputs": [
    {
     "name": "stdout",
     "output_type": "stream",
     "text": [
      "_____________________________________________________\n",
      "for k = 5\n",
      "              precision    recall  f1-score   support\n",
      "\n",
      "           0       0.77      0.67      0.72        55\n",
      "           1       0.79      0.84      0.81        88\n",
      "           2       0.43      0.45      0.44        22\n",
      "\n",
      "    accuracy                           0.73       165\n",
      "   macro avg       0.66      0.66      0.66       165\n",
      "weighted avg       0.73      0.73      0.73       165\n",
      "\n",
      "_____________________________________________________\n",
      "for k = 6\n",
      "              precision    recall  f1-score   support\n",
      "\n",
      "           0       0.79      0.69      0.74        55\n",
      "           1       0.83      0.84      0.84        88\n",
      "           2       0.46      0.59      0.52        22\n",
      "\n",
      "    accuracy                           0.76       165\n",
      "   macro avg       0.70      0.71      0.70       165\n",
      "weighted avg       0.77      0.76      0.76       165\n",
      "\n",
      "_____________________________________________________\n",
      "for k = 7\n",
      "              precision    recall  f1-score   support\n",
      "\n",
      "           0       0.84      0.65      0.73        55\n",
      "           1       0.82      0.89      0.85        88\n",
      "           2       0.52      0.64      0.57        22\n",
      "\n",
      "    accuracy                           0.78       165\n",
      "   macro avg       0.73      0.73      0.72       165\n",
      "weighted avg       0.79      0.78      0.78       165\n",
      "\n",
      "_____________________________________________________\n",
      "for k = 8\n",
      "              precision    recall  f1-score   support\n",
      "\n",
      "           0       0.83      0.69      0.75        55\n",
      "           1       0.84      0.88      0.86        88\n",
      "           2       0.52      0.64      0.57        22\n",
      "\n",
      "    accuracy                           0.78       165\n",
      "   macro avg       0.73      0.73      0.73       165\n",
      "weighted avg       0.79      0.78      0.78       165\n",
      "\n",
      "_____________________________________________________\n",
      "for k = 9\n",
      "              precision    recall  f1-score   support\n",
      "\n",
      "           0       0.85      0.64      0.73        55\n",
      "           1       0.81      0.90      0.85        88\n",
      "           2       0.52      0.64      0.57        22\n",
      "\n",
      "    accuracy                           0.78       165\n",
      "   macro avg       0.73      0.72      0.72       165\n",
      "weighted avg       0.79      0.78      0.77       165\n",
      "\n",
      "_____________________________________________________\n",
      "for k = 10\n",
      "              precision    recall  f1-score   support\n",
      "\n",
      "           0       0.83      0.64      0.72        55\n",
      "           1       0.81      0.88      0.84        88\n",
      "           2       0.50      0.64      0.56        22\n",
      "\n",
      "    accuracy                           0.76       165\n",
      "   macro avg       0.71      0.72      0.71       165\n",
      "weighted avg       0.78      0.76      0.76       165\n",
      "\n"
     ]
    }
   ],
   "source": [
    "# To find exact optimum n of knn model\n",
    "# Created by AAdika45\n",
    "\n",
    "def KNN(data):\n",
    "    for n in data:\n",
    "            knn = KNeighborsClassifier(n_neighbors= n)\n",
    "            knn.fit(X_train,y_train)\n",
    "            predict = knn.predict(X_test)\n",
    "            print('_____________________________________________________')\n",
    "            print(f'for k = {n}')\n",
    "            print(classification_report(y_test, predict))\n",
    "    return\n",
    "N = range(5,11)\n",
    "\n",
    "KNN(N)"
   ]
  },
  {
   "cell_type": "markdown",
   "metadata": {},
   "source": [
    "From result above, n = 9 is the best result."
   ]
  },
  {
   "cell_type": "code",
   "execution_count": 49,
   "metadata": {},
   "outputs": [
    {
     "name": "stdout",
     "output_type": "stream",
     "text": [
      "              precision    recall  f1-score   support\n",
      "\n",
      "           0       0.85      0.64      0.73        55\n",
      "           1       0.81      0.90      0.85        88\n",
      "           2       0.52      0.64      0.57        22\n",
      "\n",
      "    accuracy                           0.78       165\n",
      "   macro avg       0.73      0.72      0.72       165\n",
      "weighted avg       0.79      0.78      0.77       165\n",
      "\n"
     ]
    }
   ],
   "source": [
    "knn = KNeighborsClassifier(n_neighbors= 9 )\n",
    "knn.fit(X_train,y_train)\n",
    "predict = knn.predict(X_test)\n",
    "print(classification_report(y_test, predict))"
   ]
  },
  {
   "cell_type": "code",
   "execution_count": 50,
   "metadata": {},
   "outputs": [
    {
     "data": {
      "image/png": "[encoded data removed]",
      "text/plain": [
       "<Figure size 600x300 with 2 Axes>"
      ]
     },
     "metadata": {},
     "output_type": "display_data"
    }
   ],
   "source": [
    "# confusion matrix\n",
    "\n",
    "plt.figure(figsize=(6,3))\n",
    "sns.set_theme(style=\"white\")\n",
    "sns.heatmap(confusion_matrix(y_test, predict), annot=True)\n",
    "plt.show()"
   ]
  },
  {
   "cell_type": "markdown",
   "metadata": {},
   "source": [
    "From the results of the confusion metric with knn methods, it can be seen that the model can correctly predict the value of 35  0_marketsize out of 55 data, 79 1_marketsize  out of 88 data and 14 2_marketsize out of 22 data."
   ]
  },
  {
   "cell_type": "markdown",
   "metadata": {},
   "source": [
    "### Multi-Class Logistic Regression vs KNN "
   ]
  },
  {
   "cell_type": "code",
   "execution_count": 51,
   "metadata": {},
   "outputs": [],
   "source": [
    "regression['MarketSize_String'] = Le.inverse_transform(regression['MarketSize'])"
   ]
  },
  {
   "cell_type": "code",
   "execution_count": 52,
   "metadata": {},
   "outputs": [],
   "source": [
    "from sklearn.metrics import precision_recall_fscore_support"
   ]
  },
  {
   "cell_type": "code",
   "execution_count": 53,
   "metadata": {},
   "outputs": [
    {
     "data": {
      "text/plain": [
       "array([[ 0.85,  0.81,  0.52],\n",
       "       [ 0.64,  0.9 ,  0.64],\n",
       "       [ 0.73,  0.85,  0.57],\n",
       "       [55.  , 88.  , 22.  ]])"
      ]
     },
     "execution_count": 53,
     "metadata": {},
     "output_type": "execute_result"
    }
   ],
   "source": [
    "#we create classification_report score into an array\n",
    "\n",
    "knn_prd = precision_recall_fscore_support(y_test, predict, labels= [0,1,2], average=None)\n",
    "knn_prd = np.around(knn_prd, decimals=2)\n",
    "knn_prd"
   ]
  },
  {
   "cell_type": "code",
   "execution_count": 54,
   "metadata": {},
   "outputs": [
    {
     "data": {
      "text/html": [
       "<div>\n",
       "<style scoped>\n",
       "    .dataframe tbody tr th:only-of-type {\n",
       "        vertical-align: middle;\n",
       "    }\n",
       "\n",
       "    .dataframe tbody tr th {\n",
       "        vertical-align: top;\n",
       "    }\n",
       "\n",
       "    .dataframe thead th {\n",
       "        text-align: right;\n",
       "    }\n",
       "</style>\n",
       "<table border=\"1\" class=\"dataframe\">\n",
       "  <thead>\n",
       "    <tr style=\"text-align: right;\">\n",
       "      <th></th>\n",
       "      <th>correct_predict_knn</th>\n",
       "      <th>precision_knn</th>\n",
       "      <th>recall_knn</th>\n",
       "      <th>f1_knn</th>\n",
       "      <th>correct_predict_lr</th>\n",
       "      <th>precision_lr</th>\n",
       "      <th>recall_lr</th>\n",
       "      <th>f1_lr</th>\n",
       "      <th>total_test</th>\n",
       "    </tr>\n",
       "  </thead>\n",
       "  <tbody>\n",
       "    <tr>\n",
       "      <th>Large</th>\n",
       "      <td>35</td>\n",
       "      <td>0.850</td>\n",
       "      <td>0.640</td>\n",
       "      <td>0.730</td>\n",
       "      <td>37</td>\n",
       "      <td>0.638</td>\n",
       "      <td>0.673</td>\n",
       "      <td>0.655</td>\n",
       "      <td>55.000</td>\n",
       "    </tr>\n",
       "    <tr>\n",
       "      <th>Medium</th>\n",
       "      <td>79</td>\n",
       "      <td>0.810</td>\n",
       "      <td>0.900</td>\n",
       "      <td>0.850</td>\n",
       "      <td>80</td>\n",
       "      <td>0.762</td>\n",
       "      <td>0.909</td>\n",
       "      <td>0.829</td>\n",
       "      <td>88.000</td>\n",
       "    </tr>\n",
       "    <tr>\n",
       "      <th>Small</th>\n",
       "      <td>14</td>\n",
       "      <td>0.520</td>\n",
       "      <td>0.640</td>\n",
       "      <td>0.570</td>\n",
       "      <td>1</td>\n",
       "      <td>0.500</td>\n",
       "      <td>0.045</td>\n",
       "      <td>0.083</td>\n",
       "      <td>22.000</td>\n",
       "    </tr>\n",
       "  </tbody>\n",
       "</table>\n",
       "</div>"
      ],
      "text/plain": [
       "        correct_predict_knn  precision_knn  recall_knn  f1_knn  \\\n",
       "Large                    35          0.850       0.640   0.730   \n",
       "Medium                   79          0.810       0.900   0.850   \n",
       "Small                    14          0.520       0.640   0.570   \n",
       "\n",
       "        correct_predict_lr  precision_lr  recall_lr  f1_lr  total_test  \n",
       "Large                   37         0.638      0.673  0.655      55.000  \n",
       "Medium                  80         0.762      0.909  0.829      88.000  \n",
       "Small                    1         0.500      0.045  0.083      22.000  "
      ]
     },
     "execution_count": 54,
     "metadata": {},
     "output_type": "execute_result"
    }
   ],
   "source": [
    "# Let's create table LR vs KNN\n",
    "# created by AAdika45\n",
    "\n",
    "knn1 = []\n",
    "lr1 = []\n",
    "for i in range(0,3):\n",
    "    for j in range(0,3):\n",
    "        if i != j:\n",
    "            pass\n",
    "        else:\n",
    "            knn_predict = confusion_matrix(y_test, predict)\n",
    "            lr_predict = confusion_matrix(y_test, y_predict)\n",
    "            knn1.append(knn_predict[i,j])\n",
    "            lr1.append(lr_predict[i,j])\n",
    "            \n",
    "lr_prd = precision_recall_fscore_support(y_test, y_predict, labels= [0,1,2], average=None)\n",
    "lr_prd = np.around(lr_prd, decimals=3)\n",
    "knn_prd = precision_recall_fscore_support(y_test, predict, labels= [0,1,2], average=None)\n",
    "knn_prd = np.around(knn_prd, decimals=2)\n",
    "prediksi = [knn1,lr1]\n",
    "prediksi = np.array(prediksi)\n",
    "dicti = {'correct_predict_knn':prediksi[0],'precision_knn':knn_prd.T[:3,0] , 'recall_knn':knn_prd.T[:3,1],\n",
    " 'f1_knn':knn_prd.T[:3,2], 'correct_predict_lr':prediksi[1],'precision_lr':lr_prd.T[:3,0] ,\n",
    " 'recall_lr':lr_prd.T[:3,1],'f1_lr':lr_prd.T[:3,2],'total_test':lr_prd.T[:3,3]}\n",
    "ind = []\n",
    "for i in np.sort(regression['MarketSize'].unique()):\n",
    "     ind.append(Le.inverse_transform(np.sort(regression['MarketSize'].unique()))[i])\n",
    "knn_x_lr = pd.DataFrame(dicti,index=ind)\n",
    "knn_x_lr"
   ]
  },
  {
   "cell_type": "markdown",
   "metadata": {},
   "source": [
    "The table above shows that the overall KNN model gives more accurate data prediction regarding data classification. $\\\\$\n",
    "For Market size Large and Medium, both model have same accuracy to predict them; it is shown by value of recall_knn and recall_lr.\n",
    "But for a Market size Small, KNN is much better to predict it with an accuracy score of 64% at recall knn, while the accuracy score of lr_recall is 5%."
   ]
  }
 ],
 "metadata": {
  "kernelspec": {
   "display_name": "Python 3.9.13 ('base')",
   "language": "python",
   "name": "python3"
  },
  "language_info": {
   "codemirror_mode": {
    "name": "ipython",
    "version": 3
   },
   "file_extension": ".py",
   "mimetype": "text/x-python",
   "name": "python",
   "nbconvert_exporter": "python",
   "pygments_lexer": "ipython3",
   "version": "3.9.13"
  },
  "orig_nbformat": 4,
  "vscode": {
   "interpreter": {
    "hash": "fea0466274de65d0a9646a58d55cd55c063d9d7e27ec3580f48562cf541cacfd"
   }
  }
 },
 "nbformat": 4,
 "nbformat_minor": 2
}
